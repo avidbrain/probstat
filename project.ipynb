{
 "cells": [
  {
   "cell_type": "markdown",
   "id": "brutal-turkish",
   "metadata": {},
   "source": [
    "# Проектная работа\n",
    "\n",
    "по курсу \"Теория вероятностей и математическая статистика\"."
   ]
  },
  {
   "cell_type": "markdown",
   "id": "assured-fishing",
   "metadata": {},
   "source": [
    "## Описание"
   ]
  },
  {
   "cell_type": "markdown",
   "id": "committed-filename",
   "metadata": {},
   "source": [
    "Задача: сравнить доходность от \"наивной\" торговой стратегии на бирже со случайным инвестированием.\n",
    "В качестве наивной стратегии возьмем популярную идею о том, что можно успешно торговать, пользуясь двумя индикаторами: скользящим средним за 200 дней и скользящим средним за 10 дней (SMA-200 и SMA-10).\n",
    "Поскольку в качестве инструментария не используется ничего, кроме стандартных пакетов Python типа pandas, стратегия упрощена до следующих правил:\n",
    "- короткие позиции не используются\n",
    "- интервал - день\n",
    "- используется только цена закрытия\n",
    "- когда цена ниже SMA-200, алгоритм ничего не делает\n",
    "- когда цена выше SMA-200, ждем снижения цены ниже SMA-10, и в случае снижения и последующего отскока выше SMA-10 открываем длинную позицию\n",
    "- ставим stop loss на небольшой убыток -0.3%\n",
    "- ставим лимит на прибыль 7% (если он достигнут - продаем)\n",
    "- покупается максимум акций, сколько можно купить на 1 млн. рублей, продаются все купленные ранее акции\n",
    "\n",
    "В качестве инструментов взяты акции первого уровня, котирующиеся на Московской бирже (это наша выборка).\n",
    "Стратегия проверяется на исторических ценах для каждой акции отдельно, получившаяся прибыль - это значение переменной.\n",
    "\n",
    "Рассмотренная система отражает работу \"сферического инвестора в вакууме\": не учитываются комиссии, размеры лотов, и т.п.\n",
    "\n",
    "Рандомные торги проводятся следующим образом:\n",
    "- выбирается день недели, например, вторник\n",
    "- на 1 млн. рублей покупаются акции по цене закрытия выбранного дня\n",
    "- в соответствующий день на следующей неделе все акции продаются по цене закрытия\n",
    "- через неделю цикл повторяется\n",
    "- если на какой-то неделе торгов в этот день нет, ничего не делаем\n",
    "\n",
    "Все стратегии работают с 1 марта 2017 года по конец 2020-го.\n",
    "\n",
    "Скрипты подготовки данных:\n",
    "- `prep.py` готовит dataframe из csv-файлов, скачанных с Финама\n",
    "- `trade.py` готовит dataframe с данными продажи и покупки акций по Стратегии (когда, что, сколько, почем)\n",
    "- `randomtrade.py` аналогично для рандомных продаж (только берется несколько дней, соответственно, несколько выборок в одном dataframe)\n",
    "\n",
    "Примечание: подобные наивные алгоритмы очень неустойчивы и чувствительны к параметрам, стоит на доли процента поменять уровень лимита, например, и вместо прибыли получим убыток. Поэтому рассматривать все расчеты можно исключительно в качестве технического упражнения."
   ]
  },
  {
   "cell_type": "markdown",
   "id": "welsh-electron",
   "metadata": {},
   "source": [
    "## Исходные данные"
   ]
  },
  {
   "cell_type": "code",
   "execution_count": 3,
   "id": "beginning-washer",
   "metadata": {},
   "outputs": [],
   "source": [
    "import pickle\n",
    "import pandas as pd"
   ]
  },
  {
   "cell_type": "code",
   "execution_count": 4,
   "id": "charitable-messaging",
   "metadata": {},
   "outputs": [
    {
     "data": {
      "text/html": [
       "<div>\n",
       "<style scoped>\n",
       "    .dataframe tbody tr th:only-of-type {\n",
       "        vertical-align: middle;\n",
       "    }\n",
       "\n",
       "    .dataframe tbody tr th {\n",
       "        vertical-align: top;\n",
       "    }\n",
       "\n",
       "    .dataframe thead th {\n",
       "        text-align: right;\n",
       "    }\n",
       "</style>\n",
       "<table border=\"1\" class=\"dataframe\">\n",
       "  <thead>\n",
       "    <tr style=\"text-align: right;\">\n",
       "      <th></th>\n",
       "      <th>Date</th>\n",
       "      <th>Ticker</th>\n",
       "      <th>NSec</th>\n",
       "      <th>Price</th>\n",
       "    </tr>\n",
       "  </thead>\n",
       "  <tbody>\n",
       "    <tr>\n",
       "      <th>33</th>\n",
       "      <td>2020-01-31</td>\n",
       "      <td>RTKM</td>\n",
       "      <td>-11312</td>\n",
       "      <td>88.0000</td>\n",
       "    </tr>\n",
       "    <tr>\n",
       "      <th>2</th>\n",
       "      <td>2020-02-13</td>\n",
       "      <td>MGNT</td>\n",
       "      <td>266</td>\n",
       "      <td>3750.0000</td>\n",
       "    </tr>\n",
       "    <tr>\n",
       "      <th>8</th>\n",
       "      <td>2017-05-11</td>\n",
       "      <td>HYDR</td>\n",
       "      <td>1085069</td>\n",
       "      <td>0.9216</td>\n",
       "    </tr>\n",
       "  </tbody>\n",
       "</table>\n",
       "</div>"
      ],
      "text/plain": [
       "          Date Ticker     NSec      Price\n",
       "33  2020-01-31   RTKM   -11312    88.0000\n",
       "2   2020-02-13   MGNT      266  3750.0000\n",
       "8   2017-05-11   HYDR  1085069     0.9216"
      ]
     },
     "execution_count": 4,
     "metadata": {},
     "output_type": "execute_result"
    }
   ],
   "source": [
    "with open('trade.pkl', 'rb') as file:\n",
    "    trade_df = pickle.load(file)\n",
    "trade_df.sample(3)"
   ]
  },
  {
   "cell_type": "code",
   "execution_count": 5,
   "id": "twenty-louis",
   "metadata": {},
   "outputs": [
    {
     "data": {
      "text/html": [
       "<div>\n",
       "<style scoped>\n",
       "    .dataframe tbody tr th:only-of-type {\n",
       "        vertical-align: middle;\n",
       "    }\n",
       "\n",
       "    .dataframe tbody tr th {\n",
       "        vertical-align: top;\n",
       "    }\n",
       "\n",
       "    .dataframe thead th {\n",
       "        text-align: right;\n",
       "    }\n",
       "</style>\n",
       "<table border=\"1\" class=\"dataframe\">\n",
       "  <thead>\n",
       "    <tr style=\"text-align: right;\">\n",
       "      <th></th>\n",
       "      <th>Date</th>\n",
       "      <th>RDay</th>\n",
       "      <th>Ticker</th>\n",
       "      <th>NSec</th>\n",
       "      <th>Price</th>\n",
       "    </tr>\n",
       "  </thead>\n",
       "  <tbody>\n",
       "    <tr>\n",
       "      <th>72</th>\n",
       "      <td>2018-07-26</td>\n",
       "      <td>3</td>\n",
       "      <td>HYDR</td>\n",
       "      <td>1476450</td>\n",
       "      <td>0.6773</td>\n",
       "    </tr>\n",
       "    <tr>\n",
       "      <th>29</th>\n",
       "      <td>2018-06-29</td>\n",
       "      <td>4</td>\n",
       "      <td>DSKY</td>\n",
       "      <td>-10804</td>\n",
       "      <td>92.0000</td>\n",
       "    </tr>\n",
       "    <tr>\n",
       "      <th>109</th>\n",
       "      <td>2019-05-14</td>\n",
       "      <td>1</td>\n",
       "      <td>ENRU</td>\n",
       "      <td>-923787</td>\n",
       "      <td>1.0925</td>\n",
       "    </tr>\n",
       "  </tbody>\n",
       "</table>\n",
       "</div>"
      ],
      "text/plain": [
       "           Date  RDay Ticker     NSec    Price\n",
       "72   2018-07-26     3   HYDR  1476450   0.6773\n",
       "29   2018-06-29     4   DSKY   -10804  92.0000\n",
       "109  2019-05-14     1   ENRU  -923787   1.0925"
      ]
     },
     "execution_count": 5,
     "metadata": {},
     "output_type": "execute_result"
    }
   ],
   "source": [
    "with open('random.pkl', 'rb') as file:\n",
    "    random_df = pickle.load(file)\n",
    "random_df.sample(3)"
   ]
  },
  {
   "cell_type": "markdown",
   "id": "amino-merchant",
   "metadata": {},
   "source": [
    "## Подготовка данных"
   ]
  },
  {
   "cell_type": "code",
   "execution_count": 7,
   "id": "czech-robertson",
   "metadata": {},
   "outputs": [],
   "source": [
    "def get_profits(df):\n",
    "    return (\n",
    "        df\n",
    "        .assign(Profit = lambda x: -x.NSec * x.Price)\n",
    "        .groupby('Ticker')\n",
    "        .agg({'Profit' : 'sum'})\n",
    ")"
   ]
  },
  {
   "cell_type": "code",
   "execution_count": 8,
   "id": "solar-copying",
   "metadata": {},
   "outputs": [
    {
     "data": {
      "text/html": [
       "<div>\n",
       "<style scoped>\n",
       "    .dataframe tbody tr th:only-of-type {\n",
       "        vertical-align: middle;\n",
       "    }\n",
       "\n",
       "    .dataframe tbody tr th {\n",
       "        vertical-align: top;\n",
       "    }\n",
       "\n",
       "    .dataframe thead th {\n",
       "        text-align: right;\n",
       "    }\n",
       "</style>\n",
       "<table border=\"1\" class=\"dataframe\">\n",
       "  <thead>\n",
       "    <tr style=\"text-align: right;\">\n",
       "      <th></th>\n",
       "      <th>Random0</th>\n",
       "      <th>Random1</th>\n",
       "      <th>Random2</th>\n",
       "      <th>Random3</th>\n",
       "      <th>Random4</th>\n",
       "      <th>Strategy</th>\n",
       "    </tr>\n",
       "    <tr>\n",
       "      <th>Ticker</th>\n",
       "      <th></th>\n",
       "      <th></th>\n",
       "      <th></th>\n",
       "      <th></th>\n",
       "      <th></th>\n",
       "      <th></th>\n",
       "    </tr>\n",
       "  </thead>\n",
       "  <tbody>\n",
       "    <tr>\n",
       "      <th>SFIN</th>\n",
       "      <td>-136816.900</td>\n",
       "      <td>151360.600</td>\n",
       "      <td>-576301.000</td>\n",
       "      <td>-290848.000</td>\n",
       "      <td>-94668.500</td>\n",
       "      <td>-215014.100</td>\n",
       "    </tr>\n",
       "    <tr>\n",
       "      <th>UPRO</th>\n",
       "      <td>-3562.113</td>\n",
       "      <td>-427124.611</td>\n",
       "      <td>64880.746</td>\n",
       "      <td>-98375.402</td>\n",
       "      <td>-233269.347</td>\n",
       "      <td>-127030.714</td>\n",
       "    </tr>\n",
       "    <tr>\n",
       "      <th>AFLT</th>\n",
       "      <td>-295900.670</td>\n",
       "      <td>-673203.150</td>\n",
       "      <td>-995347.960</td>\n",
       "      <td>-634306.480</td>\n",
       "      <td>-494554.390</td>\n",
       "      <td>86539.670</td>\n",
       "    </tr>\n",
       "  </tbody>\n",
       "</table>\n",
       "</div>"
      ],
      "text/plain": [
       "           Random0     Random1     Random2     Random3     Random4    Strategy\n",
       "Ticker                                                                        \n",
       "SFIN   -136816.900  151360.600 -576301.000 -290848.000  -94668.500 -215014.100\n",
       "UPRO     -3562.113 -427124.611   64880.746  -98375.402 -233269.347 -127030.714\n",
       "AFLT   -295900.670 -673203.150 -995347.960 -634306.480 -494554.390   86539.670"
      ]
     },
     "execution_count": 8,
     "metadata": {},
     "output_type": "execute_result"
    }
   ],
   "source": [
    "random_result = random_df.groupby('RDay').apply(get_profits).unstack(0)\n",
    "random_result.columns = list(map(lambda x: f\"Random{x[1]}\", random_result.columns))\n",
    "result_df = random_result.join(get_profits(trade_df).rename(columns={'Profit': 'Strategy'}))\n",
    "result_df.sample(3)"
   ]
  },
  {
   "cell_type": "markdown",
   "id": "dated-savings",
   "metadata": {},
   "source": [
    "## Анализ"
   ]
  },
  {
   "cell_type": "markdown",
   "id": "spatial-series",
   "metadata": {},
   "source": [
    "### Финансовые результаты"
   ]
  },
  {
   "cell_type": "markdown",
   "id": "attended-princess",
   "metadata": {},
   "source": [
    "Все стратегии позволили получить прибыль, за исключением рандомных торгов по ценам закрытия среды (день №2 - это среда, так как нумерация с нуля). Что за беда именно со средой, не очень понятно. Будем считать, что это нехарактерная аномалия."
   ]
  },
  {
   "cell_type": "code",
   "execution_count": 16,
   "id": "instant-bristol",
   "metadata": {},
   "outputs": [
    {
     "data": {
      "text/plain": [
       "Random1     4554014\n",
       "Random4     3536337\n",
       "Random0     3190789\n",
       "Strategy    1059879\n",
       "Random3      570741\n",
       "Random2    -4363349\n",
       "dtype: int32"
      ]
     },
     "execution_count": 16,
     "metadata": {},
     "output_type": "execute_result"
    }
   ],
   "source": [
    "result_df.agg('sum').astype(int).sort_values(ascending=False)"
   ]
  },
  {
   "cell_type": "markdown",
   "id": "dependent-queensland",
   "metadata": {},
   "source": [
    "Разные акции показали разные результаты, от положительных до отрицательных. Разброс большой."
   ]
  },
  {
   "cell_type": "code",
   "execution_count": 17,
   "id": "friendly-behavior",
   "metadata": {},
   "outputs": [
    {
     "data": {
      "text/html": [
       "<div>\n",
       "<style scoped>\n",
       "    .dataframe tbody tr th:only-of-type {\n",
       "        vertical-align: middle;\n",
       "    }\n",
       "\n",
       "    .dataframe tbody tr th {\n",
       "        vertical-align: top;\n",
       "    }\n",
       "\n",
       "    .dataframe thead th {\n",
       "        text-align: right;\n",
       "    }\n",
       "</style>\n",
       "<table border=\"1\" class=\"dataframe\">\n",
       "  <thead>\n",
       "    <tr style=\"text-align: right;\">\n",
       "      <th></th>\n",
       "      <th>Random0</th>\n",
       "      <th>Random1</th>\n",
       "      <th>Random2</th>\n",
       "      <th>Random3</th>\n",
       "      <th>Random4</th>\n",
       "      <th>Strategy</th>\n",
       "    </tr>\n",
       "  </thead>\n",
       "  <tbody>\n",
       "    <tr>\n",
       "      <th>count</th>\n",
       "      <td>38.000000</td>\n",
       "      <td>38.000000</td>\n",
       "      <td>38.000000</td>\n",
       "      <td>38.000000</td>\n",
       "      <td>38.000000</td>\n",
       "      <td>38.000000</td>\n",
       "    </tr>\n",
       "    <tr>\n",
       "      <th>mean</th>\n",
       "      <td>83968.133894</td>\n",
       "      <td>119842.490544</td>\n",
       "      <td>-114824.979433</td>\n",
       "      <td>15019.505372</td>\n",
       "      <td>93061.522835</td>\n",
       "      <td>27891.575126</td>\n",
       "    </tr>\n",
       "    <tr>\n",
       "      <th>std</th>\n",
       "      <td>303116.955916</td>\n",
       "      <td>323050.627590</td>\n",
       "      <td>360096.129102</td>\n",
       "      <td>344194.799547</td>\n",
       "      <td>307099.258872</td>\n",
       "      <td>201315.081952</td>\n",
       "    </tr>\n",
       "    <tr>\n",
       "      <th>min</th>\n",
       "      <td>-416523.635000</td>\n",
       "      <td>-673203.150000</td>\n",
       "      <td>-995347.960000</td>\n",
       "      <td>-730548.000000</td>\n",
       "      <td>-625484.176871</td>\n",
       "      <td>-361476.007500</td>\n",
       "    </tr>\n",
       "    <tr>\n",
       "      <th>25%</th>\n",
       "      <td>-112290.593579</td>\n",
       "      <td>-30771.742500</td>\n",
       "      <td>-383864.025000</td>\n",
       "      <td>-258704.049918</td>\n",
       "      <td>-83340.589800</td>\n",
       "      <td>-135063.841000</td>\n",
       "    </tr>\n",
       "    <tr>\n",
       "      <th>50%</th>\n",
       "      <td>30535.530000</td>\n",
       "      <td>152542.270000</td>\n",
       "      <td>-88166.722500</td>\n",
       "      <td>60934.880000</td>\n",
       "      <td>71066.534650</td>\n",
       "      <td>18923.155450</td>\n",
       "    </tr>\n",
       "    <tr>\n",
       "      <th>75%</th>\n",
       "      <td>276984.457500</td>\n",
       "      <td>331336.520750</td>\n",
       "      <td>67414.751500</td>\n",
       "      <td>204759.259950</td>\n",
       "      <td>316675.900000</td>\n",
       "      <td>136092.205325</td>\n",
       "    </tr>\n",
       "    <tr>\n",
       "      <th>max</th>\n",
       "      <td>858369.130000</td>\n",
       "      <td>642565.500000</td>\n",
       "      <td>632431.010000</td>\n",
       "      <td>847477.010000</td>\n",
       "      <td>705933.135000</td>\n",
       "      <td>498222.000000</td>\n",
       "    </tr>\n",
       "  </tbody>\n",
       "</table>\n",
       "</div>"
      ],
      "text/plain": [
       "             Random0        Random1        Random2        Random3  \\\n",
       "count      38.000000      38.000000      38.000000      38.000000   \n",
       "mean    83968.133894  119842.490544 -114824.979433   15019.505372   \n",
       "std    303116.955916  323050.627590  360096.129102  344194.799547   \n",
       "min   -416523.635000 -673203.150000 -995347.960000 -730548.000000   \n",
       "25%   -112290.593579  -30771.742500 -383864.025000 -258704.049918   \n",
       "50%     30535.530000  152542.270000  -88166.722500   60934.880000   \n",
       "75%    276984.457500  331336.520750   67414.751500  204759.259950   \n",
       "max    858369.130000  642565.500000  632431.010000  847477.010000   \n",
       "\n",
       "             Random4       Strategy  \n",
       "count      38.000000      38.000000  \n",
       "mean    93061.522835   27891.575126  \n",
       "std    307099.258872  201315.081952  \n",
       "min   -625484.176871 -361476.007500  \n",
       "25%    -83340.589800 -135063.841000  \n",
       "50%     71066.534650   18923.155450  \n",
       "75%    316675.900000  136092.205325  \n",
       "max    705933.135000  498222.000000  "
      ]
     },
     "execution_count": 17,
     "metadata": {},
     "output_type": "execute_result"
    }
   ],
   "source": [
    "result_df.describe()"
   ]
  },
  {
   "cell_type": "code",
   "execution_count": 18,
   "id": "technological-sociology",
   "metadata": {},
   "outputs": [
    {
     "data": {
      "image/png": "[encoded data removed]",
      "text/plain": [
       "<Figure size 432x288 with 1 Axes>"
      ]
     },
     "metadata": {
      "needs_background": "light"
     },
     "output_type": "display_data"
    }
   ],
   "source": [
    "result_df.boxplot();"
   ]
  },
  {
   "cell_type": "markdown",
   "id": "controlling-length",
   "metadata": {},
   "source": [
    "### ANOVA"
   ]
  },
  {
   "cell_type": "code",
   "execution_count": 20,
   "id": "crude-damage",
   "metadata": {},
   "outputs": [],
   "source": [
    "import statsmodels.api as sm\n",
    "from statsmodels.formula.api import ols"
   ]
  },
  {
   "cell_type": "markdown",
   "id": "entitled-router",
   "metadata": {},
   "source": [
    "Логичная гипотеза $H_0$ в данном случае - нет никаких различий между средними во всех группах, и применять мега-стратегию из серии \"делай так и разбогатеешь\" ничуть не прибыльнее, чем торговать безумным рандомным способом."
   ]
  },
  {
   "cell_type": "markdown",
   "id": "electrical-relative",
   "metadata": {},
   "source": [
    "Однако присутствие аномальной группы Random2 внезапно позволяет показать статистически значимые различия."
   ]
  },
  {
   "cell_type": "code",
   "execution_count": 21,
   "id": "colored-frost",
   "metadata": {},
   "outputs": [
    {
     "data": {
      "text/html": [
       "<div>\n",
       "<style scoped>\n",
       "    .dataframe tbody tr th:only-of-type {\n",
       "        vertical-align: middle;\n",
       "    }\n",
       "\n",
       "    .dataframe tbody tr th {\n",
       "        vertical-align: top;\n",
       "    }\n",
       "\n",
       "    .dataframe thead th {\n",
       "        text-align: right;\n",
       "    }\n",
       "</style>\n",
       "<table border=\"1\" class=\"dataframe\">\n",
       "  <thead>\n",
       "    <tr style=\"text-align: right;\">\n",
       "      <th></th>\n",
       "      <th>df</th>\n",
       "      <th>sum_sq</th>\n",
       "      <th>mean_sq</th>\n",
       "      <th>F</th>\n",
       "      <th>PR(&gt;F)</th>\n",
       "    </tr>\n",
       "  </thead>\n",
       "  <tbody>\n",
       "    <tr>\n",
       "      <th>C(variable)</th>\n",
       "      <td>5.0</td>\n",
       "      <td>1.361435e+12</td>\n",
       "      <td>2.722871e+11</td>\n",
       "      <td>2.820563</td>\n",
       "      <td>0.017176</td>\n",
       "    </tr>\n",
       "    <tr>\n",
       "      <th>Residual</th>\n",
       "      <td>222.0</td>\n",
       "      <td>2.143109e+13</td>\n",
       "      <td>9.653643e+10</td>\n",
       "      <td>NaN</td>\n",
       "      <td>NaN</td>\n",
       "    </tr>\n",
       "  </tbody>\n",
       "</table>\n",
       "</div>"
      ],
      "text/plain": [
       "                df        sum_sq       mean_sq         F    PR(>F)\n",
       "C(variable)    5.0  1.361435e+12  2.722871e+11  2.820563  0.017176\n",
       "Residual     222.0  2.143109e+13  9.653643e+10       NaN       NaN"
      ]
     },
     "execution_count": 21,
     "metadata": {},
     "output_type": "execute_result"
    }
   ],
   "source": [
    "trade_lm = ols('value ~ C(variable)', data=result_df.melt()).fit()\n",
    "sm.stats.anova_lm(trade_lm)"
   ]
  },
  {
   "cell_type": "markdown",
   "id": "coordinated-leather",
   "metadata": {},
   "source": [
    "А вот если эту группу не учитывать и считать, что \"там что-то с данными\", то результат весьма показательный."
   ]
  },
  {
   "cell_type": "code",
   "execution_count": 22,
   "id": "designing-thanksgiving",
   "metadata": {},
   "outputs": [
    {
     "data": {
      "text/html": [
       "<div>\n",
       "<style scoped>\n",
       "    .dataframe tbody tr th:only-of-type {\n",
       "        vertical-align: middle;\n",
       "    }\n",
       "\n",
       "    .dataframe tbody tr th {\n",
       "        vertical-align: top;\n",
       "    }\n",
       "\n",
       "    .dataframe thead th {\n",
       "        text-align: right;\n",
       "    }\n",
       "</style>\n",
       "<table border=\"1\" class=\"dataframe\">\n",
       "  <thead>\n",
       "    <tr style=\"text-align: right;\">\n",
       "      <th></th>\n",
       "      <th>df</th>\n",
       "      <th>sum_sq</th>\n",
       "      <th>mean_sq</th>\n",
       "      <th>F</th>\n",
       "      <th>PR(&gt;F)</th>\n",
       "    </tr>\n",
       "  </thead>\n",
       "  <tbody>\n",
       "    <tr>\n",
       "      <th>C(variable)</th>\n",
       "      <td>4.0</td>\n",
       "      <td>3.034799e+11</td>\n",
       "      <td>7.586999e+10</td>\n",
       "      <td>0.843845</td>\n",
       "      <td>0.499019</td>\n",
       "    </tr>\n",
       "    <tr>\n",
       "      <th>Residual</th>\n",
       "      <td>185.0</td>\n",
       "      <td>1.663333e+13</td>\n",
       "      <td>8.990987e+10</td>\n",
       "      <td>NaN</td>\n",
       "      <td>NaN</td>\n",
       "    </tr>\n",
       "  </tbody>\n",
       "</table>\n",
       "</div>"
      ],
      "text/plain": [
       "                df        sum_sq       mean_sq         F    PR(>F)\n",
       "C(variable)    4.0  3.034799e+11  7.586999e+10  0.843845  0.499019\n",
       "Residual     185.0  1.663333e+13  8.990987e+10       NaN       NaN"
      ]
     },
     "execution_count": 22,
     "metadata": {},
     "output_type": "execute_result"
    }
   ],
   "source": [
    "df = result_df.melt().query('variable != \"Random2\"')\n",
    "trade_lm = ols('value ~ C(variable)', data=df).fit()\n",
    "sm.stats.anova_lm(trade_lm)"
   ]
  },
  {
   "cell_type": "markdown",
   "id": "funky-groove",
   "metadata": {},
   "source": [
    "## Вывод"
   ]
  },
  {
   "cell_type": "markdown",
   "id": "conditional-massachusetts",
   "metadata": {},
   "source": [
    "Основной вывод: \"наивными\" торговыми стратегиями лучше не пользоваться. "
   ]
  },
  {
   "cell_type": "markdown",
   "id": "virgin-reference",
   "metadata": {},
   "source": [
    "P.S. К сожалению, ситуация с занятостью не позволяет заняться доработкой этого упражнения до реального \"курсового\"."
   ]
  }
 ],
 "metadata": {
  "kernelspec": {
   "display_name": "Python 3",
   "language": "python",
   "name": "python3"
  },
  "language_info": {
   "codemirror_mode": {
    "name": "ipython",
    "version": 3
   },
   "file_extension": ".py",
   "mimetype": "text/x-python",
   "name": "python",
   "nbconvert_exporter": "python",
   "pygments_lexer": "ipython3",
   "version": "3.8.6"
  }
 },
 "nbformat": 4,
 "nbformat_minor": 5
}
